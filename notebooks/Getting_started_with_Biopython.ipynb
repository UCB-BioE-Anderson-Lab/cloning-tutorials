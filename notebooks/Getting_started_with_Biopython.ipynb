{
 "cells": [
  {
   "cell_type": "markdown",
   "id": "92d38674",
   "metadata": {},
   "source": [
    "# Getting Started with Biopython\n",
    "This notebook introduces basic sequence operations using Biopython."
   ]
  },
  {
   "cell_type": "markdown",
   "id": "4b9e1f68",
   "metadata": {},
   "source": [
    "## Installation\n",
    "First, install Biopython if you haven't already:"
   ]
  },
  {
   "cell_type": "code",
   "execution_count": null,
   "id": "0f24fcf9",
   "metadata": {},
   "outputs": [],
   "source": [
    "!pip install biopython"
   ]
  },
  {
   "cell_type": "markdown",
   "id": "110a49e5",
   "metadata": {},
   "source": [
    "## Importing Biopython Modules"
   ]
  },
  {
   "cell_type": "code",
   "execution_count": null,
   "id": "c3d78383",
   "metadata": {},
   "outputs": [],
   "source": [
    "from Bio.Seq import Seq\n",
    "from Bio import SeqIO\n",
    "from Bio.SeqFeature import SeqFeature, FeatureLocation\n",
    "from Bio.Restriction import RestrictionBatch\n",
    "import requests\n",
    "import pandas as pd"
   ]
  },
  {
   "cell_type": "markdown",
   "id": "fa445aed",
   "metadata": {},
   "source": [
    "## Ontology of Operations"
   ]
  },
  {
   "cell_type": "markdown",
   "id": "7f10dbc7",
   "metadata": {},
   "source": [
    "### Search: Finding a Specific Sequence"
   ]
  },
  {
   "cell_type": "code",
   "execution_count": null,
   "id": "18c0b073",
   "metadata": {},
   "outputs": [],
   "source": [
    "seq = Seq('ATGGCCATTGTAATGGGCCGCTGAAAGGGTGCCCGATAG')\n",
    "query = 'GGCC'\n",
    "index = seq.find(query)\n",
    "print(f'Sequence found at index: {index}' if index != -1 else 'Sequence not found')"
   ]
  },
  {
   "cell_type": "markdown",
   "id": "5de3a331",
   "metadata": {},
   "source": [
    "### Copy: Duplicating a Sequence"
   ]
  },
  {
   "cell_type": "code",
   "execution_count": null,
   "id": "ec07d5f8",
   "metadata": {},
   "outputs": [],
   "source": [
    "copied_seq = seq[:]\n",
    "print(f'Copied Sequence: {copied_seq}')"
   ]
  },
  {
   "cell_type": "markdown",
   "id": "3a76b033",
   "metadata": {},
   "source": [
    "### Reverse Complement: Generating Reverse Complement of a Sequence"
   ]
  },
  {
   "cell_type": "code",
   "execution_count": null,
   "id": "682e83a7",
   "metadata": {},
   "outputs": [],
   "source": [
    "rev_comp = seq.reverse_complement()\n",
    "print(f'Reverse Complement: {rev_comp}')"
   ]
  },
  {
   "cell_type": "markdown",
   "id": "f6e39f1f",
   "metadata": {},
   "source": [
    "### Translate: Converting DNA to Protein"
   ]
  },
  {
   "cell_type": "code",
   "execution_count": null,
   "id": "591ed406",
   "metadata": {},
   "outputs": [],
   "source": [
    "protein_seq = seq.translate()\n",
    "print(f'Protein Translation: {protein_seq}')"
   ]
  },
  {
   "cell_type": "markdown",
   "id": "e680fbfc",
   "metadata": {},
   "source": [
    "### Digest: Cutting a Sequence with Restriction Enzymes"
   ]
  },
  {
   "cell_type": "code",
   "execution_count": null,
   "id": "14a463d9",
   "metadata": {},
   "outputs": [],
   "source": [
    "enzymes = RestrictionBatch(['EcoRI', 'BamHI'])\n",
    "sites = enzymes.search(seq)\n",
    "print(f'Restriction Sites: {sites}')"
   ]
  },
  {
   "cell_type": "markdown",
   "id": "ba1227c2",
   "metadata": {},
   "source": [
    "### Rotate: Shifting a Circular Sequence"
   ]
  },
  {
   "cell_type": "code",
   "execution_count": null,
   "id": "e1da82d0",
   "metadata": {},
   "outputs": [],
   "source": [
    "def rotate_sequence(seq, shift):\n",
    "    return seq[shift:] + seq[:shift]\n",
    "\n",
    "rotated_seq = rotate_sequence(seq, 5)\n",
    "print(f'Rotated Sequence: {rotated_seq}')"
   ]
  },
  {
   "cell_type": "markdown",
   "id": "6ea13fac",
   "metadata": {},
   "source": [
    "## Feature Management: Autoannotation in Biopython"
   ]
  },
  {
   "cell_type": "markdown",
   "id": "dc1e6b21",
   "metadata": {},
   "source": [
    "### Downloading Feature Library"
   ]
  },
  {
   "cell_type": "code",
   "execution_count": null,
   "id": "0d0993fc",
   "metadata": {},
   "outputs": [],
   "source": [
    "url = 'https://drive.google.com/uc?export=download&id=11dDrsdPU5u_vAU7EVgwnz7vLr2jZKc9Q'\n",
    "response = requests.get(url)\n",
    "feature_library_path = 'default_features.txt'\n",
    "with open(feature_library_path, 'wb') as file:\n",
    "    file.write(response.content)\n",
    "print('Feature library downloaded successfully.')"
   ]
  },
  {
   "cell_type": "markdown",
   "id": "34a9743d",
   "metadata": {},
   "source": [
    "### Implementing Autoannotation"
   ]
  },
  {
   "cell_type": "code",
   "execution_count": null,
   "id": "86471c84",
   "metadata": {},
   "outputs": [],
   "source": [
    "def autoannotate(sequence, feature_library):\n",
    "    annotations = []\n",
    "    with open(feature_library, 'r') as file:\n",
    "        for line in file:\n",
    "            if line.startswith('#') or not line.strip():\n",
    "                continue\n",
    "            parts = line.strip().split('\\t')\n",
    "            if len(parts) < 2:\n",
    "                continue\n",
    "            feature_name, feature_seq = parts[0], parts[1]\n",
    "            start_idx = sequence.find(feature_seq)\n",
    "            if start_idx != -1:\n",
    "                annotations.append(SeqFeature(FeatureLocation(start_idx, start_idx + len(feature_seq)), type='misc_feature', qualifiers={'label': feature_name}))\n",
    "    return annotations\n",
    "\n",
    "dna_seq = 'ATGGCCATTGTAATGGGCCGCTGAAAGGGTGCCCGATAG'\n",
    "features = autoannotate(dna_seq, feature_library_path)\n",
    "for f in features:\n",
    "    print(f'Feature: {f.qualifiers[\"label\"][0]}, Location: {f.location}')"
   ]
  }
 ],
 "metadata": {},
 "nbformat": 4,
 "nbformat_minor": 5
}
